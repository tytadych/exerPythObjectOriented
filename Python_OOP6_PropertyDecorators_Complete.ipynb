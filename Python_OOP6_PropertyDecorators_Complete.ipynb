{
  "cells": [
    {
      "cell_type": "markdown",
      "id": "9ab17f75",
      "metadata": {
        "deletable": false,
        "editable": false,
        "nbgrader": {
          "cell_type": "markdown",
          "checksum": "174acc244938a4b02a02e074fe53a1b0",
          "grade": false,
          "grade_id": "cell-85b69418c12ee370",
          "locked": true,
          "schema_version": 3,
          "solution": false,
          "task": false
        },
        "id": "9ab17f75"
      },
      "source": [
        "# Python OOP6 - Property Decorators - Getters, Setters, Deleters"
      ]
    },
    {
      "cell_type": "markdown",
      "id": "49ef1aa0",
      "metadata": {
        "deletable": false,
        "editable": false,
        "nbgrader": {
          "cell_type": "markdown",
          "checksum": "6a22231bee1023c21aa9974c80342513",
          "grade": false,
          "grade_id": "cell-d2608083635b02d5",
          "locked": true,
          "schema_version": 3,
          "solution": false,
          "task": false
        },
        "id": "49ef1aa0"
      },
      "source": [
        "### Instructions\n",
        "\n",
        "* Watch the video tutorial about the os module at https://www.youtube.com/watch?v=jCzT9XFZ5bw\n",
        "* Complete the programming exercises below as you go through the tutorial.\n",
        "* Delete or comment out the line of code in each cell which says `raise NotImplementedError()` and replace it with your own.\n",
        "* Note: Some cells may have some code provided as a starting point, however, you may need to verify the variable names in the code provided match the way the presenter has spelled his variable names. If you get an error, make sure the variable names match the variable names in the video.\n",
        "\n",
        "### Exercises"
      ]
    },
    {
      "cell_type": "markdown",
      "id": "d536e6b2",
      "metadata": {
        "deletable": false,
        "editable": false,
        "nbgrader": {
          "cell_type": "markdown",
          "checksum": "71f5126b12f88797ebcceb7984be2b6f",
          "grade": false,
          "grade_id": "cell-0cf8054cd3ac7dcf",
          "locked": true,
          "schema_version": 3,
          "solution": false,
          "task": false
        },
        "id": "d536e6b2"
      },
      "source": [
        "Write code in the cell below.\n",
        "\n",
        "* Create the `email()` method for the `Employee` class below.\n",
        "* Remove the `self.email` attribute.\n",
        "* Add the `@property` decorator to the `email()` method.\n",
        "* Add the `@property` decorator to the `fullname()` method.\n",
        "* Add the `@fullname.setter` decorator and corresponding method.\n",
        "* Set the `emp_1` full name to `Corey Schafer`."
      ]
    },
    {
      "cell_type": "code",
      "execution_count": 3,
      "id": "386ec815",
      "metadata": {
        "deletable": false,
        "nbgrader": {
          "cell_type": "code",
          "checksum": "c7d63699276774e91fe51e0f83fd3f90",
          "grade": true,
          "grade_id": "cell-e39e17646257dc66",
          "locked": false,
          "points": 4,
          "schema_version": 3,
          "solution": true,
          "task": false
        },
        "id": "386ec815",
        "outputId": "2855f1cc-c973-48ac-a5d9-0ae68b136ef6",
        "colab": {
          "base_uri": "https://localhost:8080/"
        }
      },
      "outputs": [
        {
          "output_type": "stream",
          "name": "stdout",
          "text": [
            "Corey\n",
            "Corey.Schafer@email.com\n",
            "Corey Schafer\n"
          ]
        }
      ],
      "source": [
        "class Employee:\n",
        "\n",
        "    def __init__(self, first, last):\n",
        "        self.first = first\n",
        "        self.last = last\n",
        "\n",
        "    def fullname(self):\n",
        "        return '{} {}'.format(self.first, self.last)\n",
        "\n",
        "    @property\n",
        "    def email(self):\n",
        "        return '{}.{}@email.com'.format(self.first, self.last)\n",
        "\n",
        "    @property\n",
        "    def fullname(self):\n",
        "        return '{} {}'.format(self.first, self.last)\n",
        "\n",
        "    @fullname.setter\n",
        "    def fullname(self, name):\n",
        "        first, last = name.split(' ')\n",
        "        self.first = first\n",
        "        self.last = last\n",
        "\n",
        "\n",
        "emp_1 = Employee('John', 'Smith')\n",
        "\n",
        "emp_1.fullname = 'Corey Schafer'\n",
        "\n",
        "print(emp_1.first)\n",
        "print(emp_1.email)\n",
        "print(emp_1.fullname)\n",
        "\n"
      ]
    },
    {
      "cell_type": "markdown",
      "id": "af16ad52",
      "metadata": {
        "deletable": false,
        "editable": false,
        "nbgrader": {
          "cell_type": "markdown",
          "checksum": "cb64eb632de517bde5023f0f9bed028f",
          "grade": false,
          "grade_id": "cell-44951d613d38d427",
          "locked": true,
          "schema_version": 3,
          "solution": false,
          "task": false
        },
        "id": "af16ad52"
      },
      "source": [
        "Write code in the cell below.\n",
        "\n",
        "* Add the `@fullname.deleter` decorator and corresponding method.\n",
        "* Delete `emp_1.fullname`."
      ]
    },
    {
      "cell_type": "code",
      "execution_count": 8,
      "id": "cc4234f2",
      "metadata": {
        "deletable": false,
        "nbgrader": {
          "cell_type": "code",
          "checksum": "2b3d91e020a99a3e0afe2755ce9dbfba",
          "grade": true,
          "grade_id": "cell-566e3818aad1e3e6",
          "locked": false,
          "points": 1,
          "schema_version": 3,
          "solution": true,
          "task": false
        },
        "id": "cc4234f2",
        "outputId": "af34b51e-9387-4cf2-fe04-eb2651b591de",
        "colab": {
          "base_uri": "https://localhost:8080/"
        }
      },
      "outputs": [
        {
          "output_type": "stream",
          "name": "stdout",
          "text": [
            "Corey\n",
            "Corey.Schafer@email.com\n",
            "Corey Schafer\n",
            "Delete Name!\n"
          ]
        }
      ],
      "source": [
        "class Employee:\n",
        "\n",
        "    def __init__(self, first, last):\n",
        "        self.first = first\n",
        "        self.last = last\n",
        "\n",
        "    def fullname(self):\n",
        "        return '{} {}'.format(self.first, self.last)\n",
        "\n",
        "    @property\n",
        "    def email(self):\n",
        "        return '{}.{}@email.com'.format(self.first, self.last)\n",
        "\n",
        "    @property\n",
        "    def fullname(self):\n",
        "        return '{} {}'.format(self.first, self.last)\n",
        "\n",
        "    @fullname.setter\n",
        "    def fullname(self, name):\n",
        "        first, last = name.split(' ')\n",
        "        self.first = first\n",
        "        self.last = last\n",
        "\n",
        "    @fullname.deleter\n",
        "    def fullname(self):\n",
        "        print('Delete Name!')\n",
        "        self.first = None\n",
        "        self.last = None\n",
        "\n",
        "emp_1 = Employee('John', 'Smith')\n",
        "\n",
        "emp_1.fullname = 'Corey Schafer'\n",
        "\n",
        "print(emp_1.first)\n",
        "print(emp_1.email)\n",
        "print(emp_1.fullname)\n",
        "\n",
        "del emp_1.fullname\n",
        "\n"
      ]
    }
  ],
  "metadata": {
    "kernelspec": {
      "display_name": "Python 3",
      "language": "python",
      "name": "python3"
    },
    "language_info": {
      "codemirror_mode": {
        "name": "ipython",
        "version": 3
      },
      "file_extension": ".py",
      "mimetype": "text/x-python",
      "name": "python",
      "nbconvert_exporter": "python",
      "pygments_lexer": "ipython3",
      "version": "3.8.8"
    },
    "colab": {
      "provenance": []
    }
  },
  "nbformat": 4,
  "nbformat_minor": 5
}